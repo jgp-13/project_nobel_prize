{
 "cells": [
  {
   "attachments": {},
   "cell_type": "markdown",
   "id": "d79db1ef-9659-4de0-b929-b9eda19941cb",
   "metadata": {},
   "source": [
    "# Visualizing the History of Nobel Prize Winners\n",
    "\n",
    "## Project Description\n",
    "The Nobel Prize is awarded yearly to scientists and scholars in chemistry, literature, physics, medicine, economics, and peace, with the first prize awarded in 1901. Are there any biases in the way the honors are awarded? Use your data manipulation and visualization skills to explore the history of this coveted prize.\n",
    "\n",
    "## Project Instructions\n",
    "\n",
    "Analyze Nobel Prize winner data and identify patterns by answering the following questions:\n",
    "\n",
    "What is the most commonly awarded gender and birth country?\n",
    "\n",
    "* Store your answers as string variables ``top_gender`` and ``top_country``.\n",
    "\n",
    "  \n",
    "Which decade had the highest ratio of US-born Nobel Prize winners to total winners in all categories?\n",
    "\n",
    "* Store this as an integer called ``max_decade_usa``.\n",
    "\n",
    "  \n",
    "Which decade and Nobel Prize category combination had the highest proportion of female laureates?\n",
    "\n",
    "* Store this as a dictionary called ``max_female_dict`` where the decade is the key and the category is the value. There should only be one key:value pair.\n",
    "\n",
    "Who was the first woman to receive a Nobel Prize, and in what category?\n",
    "\n",
    "* Save your string answers as ``first_woman_name`` and ``first_woman_category``.\n",
    "\n",
    "\n",
    "Which individuals or organizations have won more than one Nobel Prize throughout the years?\n",
    "\n",
    "* Store the full names in a list named ``repeat_list``.\n",
    "\n",
    "## The Nobel Prize\n",
    "\n",
    "The Nobel Prize has been among the most prestigious international awards since 1901. Each year, awards are bestowed in chemistry, literature, physics, physiology or medicine, economics, and peace. In addition to the honor, prestige, and substantial prize money, the recipient also gets a gold medal with an image of Alfred Nobel (1833 - 1896), who established the prize.\n",
    "\n",
    "![](Nobel_Prize.png)\n",
    "\n",
    "The Nobel Foundation has made a dataset available of all prize winners from the outset of the awards from 1901 to 2023. The dataset used in this project is from the Nobel Prize API and is available in the `nobel.csv` file in the `data` folder.\n",
    "\n",
    "In this project, you'll get a chance to explore and answer several questions related to this prizewinning data. And we encourage you then to explore further questions that you're interested in!"
   ]
  },
  {
   "cell_type": "code",
   "execution_count": 1,
   "id": "5ede95e4-7e91-4a8f-ac7f-6e518f2e0a58",
   "metadata": {},
   "outputs": [],
   "source": [
    "# Loading in required libraries\n",
    "import pandas as pd\n",
    "import seaborn as sns\n",
    "import numpy as np\n",
    "import matplotlib.pyplot as plt\n"
   ]
  },
  {
   "cell_type": "markdown",
   "id": "8558086e-b10f-44ba-b808-f7c6f9dc1a70",
   "metadata": {},
   "source": [
    "# Understanding and Preparing the Data"
   ]
  },
  {
   "cell_type": "markdown",
   "id": "7ac887f0-89f4-4b22-a470-0d2243d7a761",
   "metadata": {},
   "source": [
    "The data is imported from the `nobel.csv` file.\n"
   ]
  },
  {
   "cell_type": "code",
   "execution_count": 2,
   "id": "9119bca2-30c2-4d08-b989-83138965bfe5",
   "metadata": {},
   "outputs": [],
   "source": [
    "df=pd.read_csv('./data/nobel.csv', \n",
    "            index_col=None, \n",
    "            header='infer')"
   ]
  },
  {
   "cell_type": "markdown",
   "id": "b711ee9c-473b-473c-8d97-818a2c7765c7",
   "metadata": {},
   "source": [
    "To understand data, the `'head()'` and `'describe()'` (for both 'numeric' and 'object' types) methods will be used."
   ]
  },
  {
   "cell_type": "code",
   "execution_count": 3,
   "id": "2ac206e1-80d6-497e-a703-95f3f0b35bdc",
   "metadata": {},
   "outputs": [
    {
     "data": {
      "text/html": [
       "<div>\n",
       "<style scoped>\n",
       "    .dataframe tbody tr th:only-of-type {\n",
       "        vertical-align: middle;\n",
       "    }\n",
       "\n",
       "    .dataframe tbody tr th {\n",
       "        vertical-align: top;\n",
       "    }\n",
       "\n",
       "    .dataframe thead th {\n",
       "        text-align: right;\n",
       "    }\n",
       "</style>\n",
       "<table border=\"1\" class=\"dataframe\">\n",
       "  <thead>\n",
       "    <tr style=\"text-align: right;\">\n",
       "      <th></th>\n",
       "      <th>year</th>\n",
       "      <th>category</th>\n",
       "      <th>prize</th>\n",
       "      <th>motivation</th>\n",
       "      <th>prize_share</th>\n",
       "      <th>laureate_id</th>\n",
       "      <th>laureate_type</th>\n",
       "      <th>full_name</th>\n",
       "      <th>birth_date</th>\n",
       "      <th>birth_city</th>\n",
       "      <th>birth_country</th>\n",
       "      <th>sex</th>\n",
       "      <th>organization_name</th>\n",
       "      <th>organization_city</th>\n",
       "      <th>organization_country</th>\n",
       "      <th>death_date</th>\n",
       "      <th>death_city</th>\n",
       "      <th>death_country</th>\n",
       "    </tr>\n",
       "  </thead>\n",
       "  <tbody>\n",
       "    <tr>\n",
       "      <th>0</th>\n",
       "      <td>1901</td>\n",
       "      <td>Chemistry</td>\n",
       "      <td>The Nobel Prize in Chemistry 1901</td>\n",
       "      <td>\"in recognition of the extraordinary services ...</td>\n",
       "      <td>1/1</td>\n",
       "      <td>160</td>\n",
       "      <td>Individual</td>\n",
       "      <td>Jacobus Henricus van 't Hoff</td>\n",
       "      <td>1852-08-30</td>\n",
       "      <td>Rotterdam</td>\n",
       "      <td>Netherlands</td>\n",
       "      <td>Male</td>\n",
       "      <td>Berlin University</td>\n",
       "      <td>Berlin</td>\n",
       "      <td>Germany</td>\n",
       "      <td>1911-03-01</td>\n",
       "      <td>Berlin</td>\n",
       "      <td>Germany</td>\n",
       "    </tr>\n",
       "    <tr>\n",
       "      <th>1</th>\n",
       "      <td>1901</td>\n",
       "      <td>Literature</td>\n",
       "      <td>The Nobel Prize in Literature 1901</td>\n",
       "      <td>\"in special recognition of his poetic composit...</td>\n",
       "      <td>1/1</td>\n",
       "      <td>569</td>\n",
       "      <td>Individual</td>\n",
       "      <td>Sully Prudhomme</td>\n",
       "      <td>1839-03-16</td>\n",
       "      <td>Paris</td>\n",
       "      <td>France</td>\n",
       "      <td>Male</td>\n",
       "      <td>NaN</td>\n",
       "      <td>NaN</td>\n",
       "      <td>NaN</td>\n",
       "      <td>1907-09-07</td>\n",
       "      <td>Châtenay</td>\n",
       "      <td>France</td>\n",
       "    </tr>\n",
       "    <tr>\n",
       "      <th>2</th>\n",
       "      <td>1901</td>\n",
       "      <td>Medicine</td>\n",
       "      <td>The Nobel Prize in Physiology or Medicine 1901</td>\n",
       "      <td>\"for his work on serum therapy, especially its...</td>\n",
       "      <td>1/1</td>\n",
       "      <td>293</td>\n",
       "      <td>Individual</td>\n",
       "      <td>Emil Adolf von Behring</td>\n",
       "      <td>1854-03-15</td>\n",
       "      <td>Hansdorf (Lawice)</td>\n",
       "      <td>Prussia (Poland)</td>\n",
       "      <td>Male</td>\n",
       "      <td>Marburg University</td>\n",
       "      <td>Marburg</td>\n",
       "      <td>Germany</td>\n",
       "      <td>1917-03-31</td>\n",
       "      <td>Marburg</td>\n",
       "      <td>Germany</td>\n",
       "    </tr>\n",
       "    <tr>\n",
       "      <th>3</th>\n",
       "      <td>1901</td>\n",
       "      <td>Peace</td>\n",
       "      <td>The Nobel Peace Prize 1901</td>\n",
       "      <td>NaN</td>\n",
       "      <td>1/2</td>\n",
       "      <td>462</td>\n",
       "      <td>Individual</td>\n",
       "      <td>Jean Henry Dunant</td>\n",
       "      <td>1828-05-08</td>\n",
       "      <td>Geneva</td>\n",
       "      <td>Switzerland</td>\n",
       "      <td>Male</td>\n",
       "      <td>NaN</td>\n",
       "      <td>NaN</td>\n",
       "      <td>NaN</td>\n",
       "      <td>1910-10-30</td>\n",
       "      <td>Heiden</td>\n",
       "      <td>Switzerland</td>\n",
       "    </tr>\n",
       "    <tr>\n",
       "      <th>4</th>\n",
       "      <td>1901</td>\n",
       "      <td>Peace</td>\n",
       "      <td>The Nobel Peace Prize 1901</td>\n",
       "      <td>NaN</td>\n",
       "      <td>1/2</td>\n",
       "      <td>463</td>\n",
       "      <td>Individual</td>\n",
       "      <td>Frédéric Passy</td>\n",
       "      <td>1822-05-20</td>\n",
       "      <td>Paris</td>\n",
       "      <td>France</td>\n",
       "      <td>Male</td>\n",
       "      <td>NaN</td>\n",
       "      <td>NaN</td>\n",
       "      <td>NaN</td>\n",
       "      <td>1912-06-12</td>\n",
       "      <td>Paris</td>\n",
       "      <td>France</td>\n",
       "    </tr>\n",
       "  </tbody>\n",
       "</table>\n",
       "</div>"
      ],
      "text/plain": [
       "   year    category                                           prize  \\\n",
       "0  1901   Chemistry               The Nobel Prize in Chemistry 1901   \n",
       "1  1901  Literature              The Nobel Prize in Literature 1901   \n",
       "2  1901    Medicine  The Nobel Prize in Physiology or Medicine 1901   \n",
       "3  1901       Peace                      The Nobel Peace Prize 1901   \n",
       "4  1901       Peace                      The Nobel Peace Prize 1901   \n",
       "\n",
       "                                          motivation prize_share  laureate_id  \\\n",
       "0  \"in recognition of the extraordinary services ...         1/1          160   \n",
       "1  \"in special recognition of his poetic composit...         1/1          569   \n",
       "2  \"for his work on serum therapy, especially its...         1/1          293   \n",
       "3                                                NaN         1/2          462   \n",
       "4                                                NaN         1/2          463   \n",
       "\n",
       "  laureate_type                     full_name  birth_date         birth_city  \\\n",
       "0    Individual  Jacobus Henricus van 't Hoff  1852-08-30          Rotterdam   \n",
       "1    Individual               Sully Prudhomme  1839-03-16              Paris   \n",
       "2    Individual        Emil Adolf von Behring  1854-03-15  Hansdorf (Lawice)   \n",
       "3    Individual             Jean Henry Dunant  1828-05-08             Geneva   \n",
       "4    Individual                Frédéric Passy  1822-05-20              Paris   \n",
       "\n",
       "      birth_country   sex   organization_name organization_city  \\\n",
       "0       Netherlands  Male   Berlin University            Berlin   \n",
       "1            France  Male                 NaN               NaN   \n",
       "2  Prussia (Poland)  Male  Marburg University           Marburg   \n",
       "3       Switzerland  Male                 NaN               NaN   \n",
       "4            France  Male                 NaN               NaN   \n",
       "\n",
       "  organization_country  death_date death_city death_country  \n",
       "0              Germany  1911-03-01     Berlin       Germany  \n",
       "1                  NaN  1907-09-07   Châtenay        France  \n",
       "2              Germany  1917-03-31    Marburg       Germany  \n",
       "3                  NaN  1910-10-30     Heiden   Switzerland  \n",
       "4                  NaN  1912-06-12      Paris        France  "
      ]
     },
     "execution_count": 3,
     "metadata": {},
     "output_type": "execute_result"
    }
   ],
   "source": [
    "df.head()"
   ]
  },
  {
   "cell_type": "markdown",
   "id": "a82726eb-20ba-4b72-937c-095b4fdfc306",
   "metadata": {},
   "source": [
    "The following code provides a summary of the categorical columns in the DataFrame. This offers an initial overview of how non-numerical data is distributed and helps identify key trends and frequent values within the dataset.\n"
   ]
  },
  {
   "cell_type": "code",
   "execution_count": 4,
   "id": "20aa9a56-288f-4b12-8160-77eb9f3804b7",
   "metadata": {},
   "outputs": [
    {
     "data": {
      "text/html": [
       "<div>\n",
       "<style scoped>\n",
       "    .dataframe tbody tr th:only-of-type {\n",
       "        vertical-align: middle;\n",
       "    }\n",
       "\n",
       "    .dataframe tbody tr th {\n",
       "        vertical-align: top;\n",
       "    }\n",
       "\n",
       "    .dataframe thead th {\n",
       "        text-align: right;\n",
       "    }\n",
       "</style>\n",
       "<table border=\"1\" class=\"dataframe\">\n",
       "  <thead>\n",
       "    <tr style=\"text-align: right;\">\n",
       "      <th></th>\n",
       "      <th>category</th>\n",
       "      <th>prize</th>\n",
       "      <th>motivation</th>\n",
       "      <th>prize_share</th>\n",
       "      <th>laureate_type</th>\n",
       "      <th>full_name</th>\n",
       "      <th>birth_date</th>\n",
       "      <th>birth_city</th>\n",
       "      <th>birth_country</th>\n",
       "      <th>sex</th>\n",
       "      <th>organization_name</th>\n",
       "      <th>organization_city</th>\n",
       "      <th>organization_country</th>\n",
       "      <th>death_date</th>\n",
       "      <th>death_city</th>\n",
       "      <th>death_country</th>\n",
       "    </tr>\n",
       "  </thead>\n",
       "  <tbody>\n",
       "    <tr>\n",
       "      <th>count</th>\n",
       "      <td>1000</td>\n",
       "      <td>1000</td>\n",
       "      <td>912</td>\n",
       "      <td>1000</td>\n",
       "      <td>1000</td>\n",
       "      <td>1000</td>\n",
       "      <td>968</td>\n",
       "      <td>964</td>\n",
       "      <td>969</td>\n",
       "      <td>970</td>\n",
       "      <td>736</td>\n",
       "      <td>735</td>\n",
       "      <td>735</td>\n",
       "      <td>596</td>\n",
       "      <td>579</td>\n",
       "      <td>585</td>\n",
       "    </tr>\n",
       "    <tr>\n",
       "      <th>unique</th>\n",
       "      <td>6</td>\n",
       "      <td>621</td>\n",
       "      <td>615</td>\n",
       "      <td>4</td>\n",
       "      <td>2</td>\n",
       "      <td>993</td>\n",
       "      <td>949</td>\n",
       "      <td>649</td>\n",
       "      <td>129</td>\n",
       "      <td>2</td>\n",
       "      <td>325</td>\n",
       "      <td>195</td>\n",
       "      <td>29</td>\n",
       "      <td>585</td>\n",
       "      <td>293</td>\n",
       "      <td>50</td>\n",
       "    </tr>\n",
       "    <tr>\n",
       "      <th>top</th>\n",
       "      <td>Medicine</td>\n",
       "      <td>The Sveriges Riksbank Prize in Economic Scienc...</td>\n",
       "      <td>\"for the discovery and synthesis of quantum dots\"</td>\n",
       "      <td>1/1</td>\n",
       "      <td>Individual</td>\n",
       "      <td>Comité international de la Croix Rouge (Intern...</td>\n",
       "      <td>1918-08-13</td>\n",
       "      <td>New York, NY</td>\n",
       "      <td>United States of America</td>\n",
       "      <td>Male</td>\n",
       "      <td>University of California</td>\n",
       "      <td>Cambridge, MA</td>\n",
       "      <td>United States of America</td>\n",
       "      <td>1973-08-12</td>\n",
       "      <td>Paris</td>\n",
       "      <td>United States of America</td>\n",
       "    </tr>\n",
       "    <tr>\n",
       "      <th>freq</th>\n",
       "      <td>227</td>\n",
       "      <td>3</td>\n",
       "      <td>3</td>\n",
       "      <td>358</td>\n",
       "      <td>966</td>\n",
       "      <td>3</td>\n",
       "      <td>2</td>\n",
       "      <td>55</td>\n",
       "      <td>291</td>\n",
       "      <td>905</td>\n",
       "      <td>36</td>\n",
       "      <td>53</td>\n",
       "      <td>385</td>\n",
       "      <td>2</td>\n",
       "      <td>27</td>\n",
       "      <td>206</td>\n",
       "    </tr>\n",
       "  </tbody>\n",
       "</table>\n",
       "</div>"
      ],
      "text/plain": [
       "        category                                              prize  \\\n",
       "count       1000                                               1000   \n",
       "unique         6                                                621   \n",
       "top     Medicine  The Sveriges Riksbank Prize in Economic Scienc...   \n",
       "freq         227                                                  3   \n",
       "\n",
       "                                               motivation prize_share  \\\n",
       "count                                                 912        1000   \n",
       "unique                                                615           4   \n",
       "top     \"for the discovery and synthesis of quantum dots\"         1/1   \n",
       "freq                                                    3         358   \n",
       "\n",
       "       laureate_type                                          full_name  \\\n",
       "count           1000                                               1000   \n",
       "unique             2                                                993   \n",
       "top       Individual  Comité international de la Croix Rouge (Intern...   \n",
       "freq             966                                                  3   \n",
       "\n",
       "        birth_date    birth_city             birth_country   sex  \\\n",
       "count          968           964                       969   970   \n",
       "unique         949           649                       129     2   \n",
       "top     1918-08-13  New York, NY  United States of America  Male   \n",
       "freq             2            55                       291   905   \n",
       "\n",
       "               organization_name organization_city      organization_country  \\\n",
       "count                        736               735                       735   \n",
       "unique                       325               195                        29   \n",
       "top     University of California     Cambridge, MA  United States of America   \n",
       "freq                          36                53                       385   \n",
       "\n",
       "        death_date death_city             death_country  \n",
       "count          596        579                       585  \n",
       "unique         585        293                        50  \n",
       "top     1973-08-12      Paris  United States of America  \n",
       "freq             2         27                       206  "
      ]
     },
     "execution_count": 4,
     "metadata": {},
     "output_type": "execute_result"
    }
   ],
   "source": [
    "df.describe(include='object')"
   ]
  },
  {
   "cell_type": "markdown",
   "id": "a29cef0e-e61c-4b7a-803f-d0168329096d",
   "metadata": {},
   "source": [
    "Based on the output, we can draw the following insights:\n",
    "\n",
    "- **Category**: There are six distinct categories, with *Medicine* being the most common, appearing 227 times.\n",
    "- **Prize**: The column contains 621 unique prize names. The most frequently mentioned is *The Sveriges Riksbank Prize in Economic Sciences in Memory of Alfred Nobel*, which appears three times.\n",
    "- **Motivation**: There are 615 unique motivations. The most common one is *\"for the discovery and synthesis of quantum dots\"*, which appears three times.\n",
    "- **Prize Share**: This column includes four unique values. The most common is `'1/1'`, indicating a sole recipient, which occurs 358 times.\n",
    "- **Laureate Type**: Laureates are either individuals or organisations. *Individual* is by far the most common, with 966 entries.\n",
    "- **Full Name**: There are 993 unique names. The most frequently occurring is *Comité international de la Croix Rouge (International Committee of the Red Cross)*, which appears three times.\n",
    "- **Birth Information**: Common birthplaces show some concentration. *New York, NY* is the most frequent birth city, and the *United States of America* is the leading country of birth.\n",
    "- **Sex**: The dataset is predominantly male, with 905 male laureates recorded.\n",
    "- **Organisation Information**: The most commonly listed organisation is the *University of California*, appearing 36 times. *Cambridge, MA* is the most common organisation city, and the *United States of America* appears most frequently as the country.\n",
    "- **Death Information**: Although these columns have more missing data, we can observe that *Paris* is the most common death city, and the *United States of America* is the most common country of death.\n",
    "\n",
    "These summaries offer a helpful snapshot of the dataset’s structure and content, and will guide our deeper analysis.\n"
   ]
  },
  {
   "cell_type": "markdown",
   "id": "7371b720-e44a-477f-bafe-2560e28655d4",
   "metadata": {},
   "source": [
    "The `.describe()` method is used to summarise the numerical columns in the DataFrame. It provides key statistics such as count, mean, standard deviation, minimum and maximum values, and quartiles. This helps us better understand the range and distribution of the numeric data.\n",
    "\n"
   ]
  },
  {
   "cell_type": "code",
   "execution_count": 5,
   "id": "02272440-afa7-479a-a4df-823e4d00d763",
   "metadata": {},
   "outputs": [
    {
     "data": {
      "text/html": [
       "<div>\n",
       "<style scoped>\n",
       "    .dataframe tbody tr th:only-of-type {\n",
       "        vertical-align: middle;\n",
       "    }\n",
       "\n",
       "    .dataframe tbody tr th {\n",
       "        vertical-align: top;\n",
       "    }\n",
       "\n",
       "    .dataframe thead th {\n",
       "        text-align: right;\n",
       "    }\n",
       "</style>\n",
       "<table border=\"1\" class=\"dataframe\">\n",
       "  <thead>\n",
       "    <tr style=\"text-align: right;\">\n",
       "      <th></th>\n",
       "      <th>year</th>\n",
       "      <th>laureate_id</th>\n",
       "    </tr>\n",
       "  </thead>\n",
       "  <tbody>\n",
       "    <tr>\n",
       "      <th>count</th>\n",
       "      <td>1000.000000</td>\n",
       "      <td>1000.000000</td>\n",
       "    </tr>\n",
       "    <tr>\n",
       "      <th>mean</th>\n",
       "      <td>1973.721000</td>\n",
       "      <td>509.099000</td>\n",
       "    </tr>\n",
       "    <tr>\n",
       "      <th>std</th>\n",
       "      <td>34.523195</td>\n",
       "      <td>298.130617</td>\n",
       "    </tr>\n",
       "    <tr>\n",
       "      <th>min</th>\n",
       "      <td>1901.000000</td>\n",
       "      <td>1.000000</td>\n",
       "    </tr>\n",
       "    <tr>\n",
       "      <th>25%</th>\n",
       "      <td>1949.750000</td>\n",
       "      <td>250.750000</td>\n",
       "    </tr>\n",
       "    <tr>\n",
       "      <th>50%</th>\n",
       "      <td>1979.000000</td>\n",
       "      <td>500.500000</td>\n",
       "    </tr>\n",
       "    <tr>\n",
       "      <th>75%</th>\n",
       "      <td>2003.000000</td>\n",
       "      <td>764.250000</td>\n",
       "    </tr>\n",
       "    <tr>\n",
       "      <th>max</th>\n",
       "      <td>2023.000000</td>\n",
       "      <td>1034.000000</td>\n",
       "    </tr>\n",
       "  </tbody>\n",
       "</table>\n",
       "</div>"
      ],
      "text/plain": [
       "              year  laureate_id\n",
       "count  1000.000000  1000.000000\n",
       "mean   1973.721000   509.099000\n",
       "std      34.523195   298.130617\n",
       "min    1901.000000     1.000000\n",
       "25%    1949.750000   250.750000\n",
       "50%    1979.000000   500.500000\n",
       "75%    2003.000000   764.250000\n",
       "max    2023.000000  1034.000000"
      ]
     },
     "execution_count": 5,
     "metadata": {},
     "output_type": "execute_result"
    }
   ],
   "source": [
    "df.describe()"
   ]
  },
  {
   "cell_type": "markdown",
   "id": "6df152f5-6887-46cc-90c9-456ceecd46a4",
   "metadata": {},
   "source": [
    "The output provides summary statistics for the numerical columns `year` and `laureate_id`:\n",
    "\n",
    "- **Year**: The data spans from 1901 to 2023. The average year is approximately 1973.72, with a standard deviation of 34.52, indicating a wide distribution over time.\n",
    "- **Laureate ID**: IDs range from 1 to 1034, with an average value of 509.1. The standard deviation of 298.13 suggests a broad variation, which aligns with the dataset’s long historical coverage.\n",
    "\n",
    "These statistics offer useful insights into the spread and central tendencies within the dataset’s numerical fields.\n"
   ]
  },
  {
   "cell_type": "code",
   "execution_count": 6,
   "id": "427e7891-2fa8-4219-8b0d-5ee3f10d005d",
   "metadata": {},
   "outputs": [
    {
     "name": "stdout",
     "output_type": "stream",
     "text": [
      "<class 'pandas.core.frame.DataFrame'>\n",
      "RangeIndex: 1000 entries, 0 to 999\n",
      "Data columns (total 18 columns):\n",
      " #   Column                Non-Null Count  Dtype \n",
      "---  ------                --------------  ----- \n",
      " 0   year                  1000 non-null   int64 \n",
      " 1   category              1000 non-null   object\n",
      " 2   prize                 1000 non-null   object\n",
      " 3   motivation            912 non-null    object\n",
      " 4   prize_share           1000 non-null   object\n",
      " 5   laureate_id           1000 non-null   int64 \n",
      " 6   laureate_type         1000 non-null   object\n",
      " 7   full_name             1000 non-null   object\n",
      " 8   birth_date            968 non-null    object\n",
      " 9   birth_city            964 non-null    object\n",
      " 10  birth_country         969 non-null    object\n",
      " 11  sex                   970 non-null    object\n",
      " 12  organization_name     736 non-null    object\n",
      " 13  organization_city     735 non-null    object\n",
      " 14  organization_country  735 non-null    object\n",
      " 15  death_date            596 non-null    object\n",
      " 16  death_city            579 non-null    object\n",
      " 17  death_country         585 non-null    object\n",
      "dtypes: int64(2), object(16)\n",
      "memory usage: 140.8+ KB\n",
      "None\n"
     ]
    }
   ],
   "source": [
    "print(df.info())"
   ]
  },
  {
   "cell_type": "markdown",
   "id": "fabd6986-f737-4212-ac13-7ed3e08de385",
   "metadata": {},
   "source": [
    "From the output of the `df.info()` method, we can gather the following insights:\n",
    "\n",
    "- **Total Rows and Columns**: The DataFrame contains 1,000 entries and 18 columns.\n",
    "- **Data Types**: There are 2 columns with integer types (`year`, `laureate_id`), while the remaining 16 are of type `object`, typically indicating categorical or text data.\n",
    "- **Missing Values**:\n",
    "  - **Motivation**: 912 non-null entries — 88 values are missing.\n",
    "  - **Birth Information**: \n",
    "    - `birth_date`: 32 missing values\n",
    "    - `birth_city`: 36 missing values\n",
    "    - `birth_country`: 31 missing values\n",
    "  - **Sex**: 30 missing values\n",
    "  - **Organisation Information**:\n",
    "    - `organization_name`: 264 missing values\n",
    "    - `organization_city`: 265 missing values\n",
    "    - `organization_country`: 265 missing values\n",
    "  - **Death Information**:\n",
    "    - `death_date`: 404 missing values\n",
    "    - `death_city`: 421 missing values\n",
    "    - `death_country`: 415 missing values\n",
    "- **Memory Usage**: Approximately 140.8 KB\n",
    "\n",
    "These details help identify which columns may require further cleaning or imputation due to missing data.\n",
    "\n"
   ]
  },
  {
   "cell_type": "markdown",
   "id": "ff417d50-6b66-46ca-817a-a47f05b65ddf",
   "metadata": {},
   "source": [
    "# Most Commonly Awarded **Gender** and **Country of Birth**\n",
    "\n",
    "* Store your answers as string variables: `top_gender` and `top_country`.\n",
    "\n"
   ]
  },
  {
   "cell_type": "code",
   "execution_count": 7,
   "id": "4afde604-a4cb-42ac-9b18-a6391a2f1fba",
   "metadata": {},
   "outputs": [
    {
     "name": "stdout",
     "output_type": "stream",
     "text": [
      "The gender that has won the most Nobel Prizes is Male.\n"
     ]
    }
   ],
   "source": [
    "top_gender=df['sex'].mode()[0]\n",
    "print(f\"The gender that has won the most Nobel Prizes is {top_gender}.\")\n"
   ]
  },
  {
   "cell_type": "code",
   "execution_count": 8,
   "id": "3ff4d3c2-0014-4a72-9491-ac55c1beac70",
   "metadata": {},
   "outputs": [
    {
     "name": "stdout",
     "output_type": "stream",
     "text": [
      "The most common country of birth among the Nobel laureates is United States of America.\n"
     ]
    }
   ],
   "source": [
    "top_country=df['birth_country'].mode()[0]\n",
    "print(f\"The most common country of birth among the Nobel laureates is {top_country}.\")"
   ]
  },
  {
   "cell_type": "markdown",
   "id": "e3d74aca-9183-4a5a-ba56-a2d24c3cab8f",
   "metadata": {},
   "source": [
    "### **Decade** with the Highest Ratio of US-born Nobel Prize Winners to Total Winners (All Categories)\n",
    "\n",
    "* Store this as an integer variable named `max_decade_usa`.\n"
   ]
  },
  {
   "cell_type": "raw",
   "id": "51a34e4f-a1ff-43c4-9ddc-b3adb33c7f23",
   "metadata": {
    "jupyter": {
     "source_hidden": true
    }
   },
   "source": [
    "# us_list=[]\n",
    "# for x in df['birth_country']:\n",
    "#     if x=='United States of America':\n",
    "#         us_list.append('USA')\n",
    "#     else:\n",
    "#         us_list.append('other')\n",
    "# df['us_wons']=us_list\n",
    "# df['us_wons'].value_counts()\n",
    "\n",
    "df['us_wons']=['USA' if x=='United States of America' else 'other' for x in df['birth_country']]\n",
    "df['us_wons'].sample(10)"
   ]
  },
  {
   "cell_type": "markdown",
   "id": "267245ca-bc4f-4698-98ec-57cdcdb85a09",
   "metadata": {},
   "source": [
    "To evaluate the decade with the highest ratio of US-born Nobel laureates to total laureates, we first need to group the `year` column into decades. The results will be stored in a new column."
   ]
  },
  {
   "cell_type": "code",
   "execution_count": 9,
   "id": "15a49857-9afd-4f43-9ab6-3a4eafe1ae0b",
   "metadata": {},
   "outputs": [],
   "source": [
    "# create a new column 'decade'\n",
    "df['decades']=df['year']//10*10         "
   ]
  },
  {
   "cell_type": "markdown",
   "id": "ae30e302-dc55-4c59-a567-4de1b0a2eeab",
   "metadata": {},
   "source": [
    "Next, we will define a function to calculate the ratio of a specific value within a given column, grouped by decade. This will allow us to determine the proportion of US-born laureates for each decade.\n"
   ]
  },
  {
   "cell_type": "code",
   "execution_count": 10,
   "id": "87848d04-be1c-45a1-be3f-477b17f814ab",
   "metadata": {},
   "outputs": [],
   "source": [
    "# Create a function for calculating a Dataframe with the ratio of the count of a categorical value to the total per decade\n",
    "def ratio_per_decade(data, column,value):\n",
    "    dec=[]\n",
    "    ratios=[]\n",
    "    for decade in data['decades'].unique():\n",
    "        df_dec=data[data['decades']==decade]\n",
    "        total=len(df_dec)\n",
    "        value_list=len(df_dec[df_dec[column]==value])\n",
    "        ratio=value_list/total\n",
    "        dec.append(decade)\n",
    "        ratios.append(ratio)\n",
    "    return pd.DataFrame({'decades':dec,'ratios':ratios})"
   ]
  },
  {
   "cell_type": "markdown",
   "id": "03e7aa9f-c2a4-4d3a-89f9-ac1280f40d91",
   "metadata": {},
   "source": [
    "We’ll apply the function to the `birth_country` column, focusing on the value `'United States of America'`, to calculate its proportion by decade.\n"
   ]
  },
  {
   "cell_type": "code",
   "execution_count": 11,
   "id": "a5f7c722-dbe4-4615-86da-7c3c76e5b42b",
   "metadata": {},
   "outputs": [
    {
     "data": {
      "text/plain": [
       "'The decade with the highest ratio of USA Nobel laureates is 2000 with a ratio of 0.42.'"
      ]
     },
     "metadata": {},
     "output_type": "display_data"
    }
   ],
   "source": [
    "# use the function to get the series of the ratio of the 'birth_country'\n",
    "usa_win_ratios=ratio_per_decade(df,'birth_country','United States of America')\n",
    "# Get the max_ratio\n",
    "max_ratio=float(usa_win_ratios['ratios'].max())\n",
    "# Get the max_decade_usa\n",
    "max_decade_usa=usa_win_ratios.iloc[usa_win_ratios['ratios'].idxmax(),0]\n",
    "\n",
    "display(f\"The decade with the highest ratio of USA Nobel laureates is {max_decade_usa} with a ratio of {max_ratio:.2f}.\")"
   ]
  },
  {
   "cell_type": "markdown",
   "id": "898d214b-435e-4921-a779-14b7c8b009f6",
   "metadata": {},
   "source": [
    "We can now visualise the resulting ratios using the custom function, plotted over time to observe trends in US representation among Nobel laureates.\n"
   ]
  },
  {
   "cell_type": "code",
   "execution_count": 12,
   "id": "bf812630-c018-4d38-91bd-855414aa6477",
   "metadata": {},
   "outputs": [
    {
     "data": {
      "image/png": "[encoded data removed]",
      "text/plain": [
       "<Figure size 500x500 with 1 Axes>"
      ]
     },
     "metadata": {},
     "output_type": "display_data"
    }
   ],
   "source": [
    "# Show the position of the maximum ratio of US born individuals\n",
    "g=sns.relplot(x=usa_win_ratios.decades,y=usa_win_ratios.ratios,kind='line',marker='o')\n",
    "title='USA born Nobel Prize winners ratio per decade'\n",
    "g.fig.suptitle(title,y=1.03)\n",
    "g.set(xlabel='decade',ylabel='USA/total ratio')\n",
    "plt.xticks(ticks=range(1900,2021,10),rotation=45)\n",
    "plt.annotate(\"42% of Nobel Prizes in \\nthe 2000s were won by \\nU.S.-born individuals.\",xy=(2000,0.42),xytext=(1950,.15),arrowprops=dict(arrowstyle='->',color='red'))\n",
    "plt.show()"
   ]
  },
  {
   "cell_type": "markdown",
   "id": "5cac843c-2582-49d7-93ed-713848c93466",
   "metadata": {},
   "source": [
    "### **Decade and Nobel Prize Category** Combination with the Highest Proportion of Female Laureates\n",
    "\n",
    "* Store this as a dictionary called `max_female_dict`, where the decade is the key and the category is the*\n"
   ]
  },
  {
   "cell_type": "markdown",
   "id": "40da1592-e7e8-4f64-bf4b-b14b40114267",
   "metadata": {},
   "source": [
    "First, let's review the available values for gender, category, and decade to understand the data we’ll be working with.\n"
   ]
  },
  {
   "cell_type": "code",
   "execution_count": 13,
   "id": "f037d9b4-2634-428e-bbe1-2df4e6a796cf",
   "metadata": {},
   "outputs": [
    {
     "name": "stdout",
     "output_type": "stream",
     "text": [
      "['Male' 'Female' nan]\n"
     ]
    }
   ],
   "source": [
    "# Check the genders available\n",
    "genders=df['sex'].unique()\n",
    "print(genders)"
   ]
  },
  {
   "cell_type": "code",
   "execution_count": 14,
   "id": "4a5639de-7498-4300-a1a4-844b4d89f9bd",
   "metadata": {},
   "outputs": [
    {
     "name": "stdout",
     "output_type": "stream",
     "text": [
      "['Chemistry' 'Literature' 'Medicine' 'Peace' 'Physics' 'Economics']\n"
     ]
    }
   ],
   "source": [
    "# Check Categories\n",
    "categories=df['category'].unique()\n",
    "print(categories)"
   ]
  },
  {
   "cell_type": "code",
   "execution_count": 15,
   "id": "28db0b7e-f08e-43c2-a585-2c835042f24f",
   "metadata": {},
   "outputs": [
    {
     "name": "stdout",
     "output_type": "stream",
     "text": [
      "[1900 1910 1920 1930 1940 1950 1960 1970 1980 1990 2000 2010 2020]\n"
     ]
    }
   ],
   "source": [
    "# Check the decades\n",
    "decades=df['decades'].unique()\n",
    "print(decades)"
   ]
  },
  {
   "cell_type": "markdown",
   "id": "bb2992ad-00c8-4f36-9da8-5e352e740417",
   "metadata": {},
   "source": [
    "Next, we’ll filter the `df` DataFrame to include only rows where the laureate's sex is `'Female'` — A new column named 'XX' will be added to be able to filter the *women* or *not-women* rows.\n"
   ]
  },
  {
   "cell_type": "code",
   "execution_count": 16,
   "id": "bc5cda37-3ebb-410b-9a63-b47712855ae7",
   "metadata": {},
   "outputs": [],
   "source": [
    "# Filter for Female winners\n",
    "df['XX']=df['sex']=='Female'"
   ]
  },
  {
   "cell_type": "markdown",
   "id": "7092edaa-388b-4412-a321-35578f7ecfca",
   "metadata": {},
   "source": [
    "We then group the filtered DataFrame by both `decade` and `category`, and calculate the mean. This will give us the proportion of female laureates within each group.\n"
   ]
  },
  {
   "cell_type": "code",
   "execution_count": 17,
   "id": "e7c5c128-4b69-4946-b97c-d8374937234e",
   "metadata": {},
   "outputs": [],
   "source": [
    "# Groupby decades and Category\n",
    "df_filter=df.groupby(['decades','category'],as_index=False)['XX'].mean()"
   ]
  },
  {
   "cell_type": "markdown",
   "id": "96d55f5a-f242-4001-ae91-4ceccedaac44",
   "metadata": {},
   "source": [
    "Let’s plot the proportion of female Nobel Prize winners over time, using separate lines for each category to compare trends across decades.\n"
   ]
  },
  {
   "cell_type": "code",
   "execution_count": 18,
   "id": "614dc456-db7e-4972-b97c-62ae5479f5a7",
   "metadata": {},
   "outputs": [
    {
     "name": "stdout",
     "output_type": "stream",
     "text": [
      "The highest female ratio occurred in the 2020s for the Literature category.\n"
     ]
    }
   ],
   "source": [
    "# Find the decade and category with the highest female winners\n",
    "df_max = df_filter[df_filter['XX'] == df_filter['XX'].max()][['decades', 'category']]\n",
    "\n",
    "# Accessing the values correctly\n",
    "max_decade = df_max['decades'].values[0]\n",
    "category = df_max['category'].values[0]\n",
    "\n",
    "print(f\"The highest female ratio occurred in the {max_decade}s for the {category} category.\")\n"
   ]
  },
  {
   "cell_type": "code",
   "execution_count": 19,
   "id": "bfda873a-aeef-49ed-8777-dce8d071ab5c",
   "metadata": {},
   "outputs": [
    {
     "data": {
      "image/png": "[encoded data removed]",
      "text/plain": [
       "<Figure size 624.25x500 with 1 Axes>"
      ]
     },
     "metadata": {},
     "output_type": "display_data"
    }
   ],
   "source": [
    "g=sns.relplot(data=df_filter,x='decades',y='XX',hue='category',kind='line',marker='o')\n",
    "title='Women winners per decade and category'\n",
    "g.fig.suptitle(title,y=1.03)\n",
    "g.set(xlabel='decade',ylabel='Female ratio',)\n",
    "plt.xticks(ticks=range(1900,2021,10),rotation=45)\n",
    "plt.show()"
   ]
  },
  {
   "cell_type": "markdown",
   "id": "a28c8d90-b50f-4e9d-b9eb-c02aa31fd50a",
   "metadata": {},
   "source": [
    "### Who Was the **First Woman** to Receive a Nobel Prize, and in Which **Category**?\n",
    "\n",
    "* Save your answers as string variables: `first_woman_name` and `first_woman_category`.\n"
   ]
  },
  {
   "cell_type": "code",
   "execution_count": 20,
   "id": "312c6b06-7986-4b7a-8f6a-c98188b5152e",
   "metadata": {},
   "outputs": [],
   "source": [
    "# filter the df_XX to only women, and getting the index of the minimum year (i.e. the first year a woman gets the Nobel)\n",
    "min_index=df[df['XX']]['year'].idxmin()"
   ]
  },
  {
   "cell_type": "code",
   "execution_count": 21,
   "id": "974ae83f-788a-4304-97f3-c277d92be617",
   "metadata": {},
   "outputs": [
    {
     "name": "stdout",
     "output_type": "stream",
     "text": [
      "The first woman laureate was Marie Curie, née Sklodowska in Physics in 1903\n"
     ]
    }
   ],
   "source": [
    "# with that index get the name and the category\n",
    "first_woman_name = df.iloc[min_index]['full_name']\n",
    "first_woman_category = df.iloc[min_index]['category']\n",
    "first_year=df.iloc[min_index]['year']\n",
    "print(f\"The first woman laureate was {first_woman_name} in {first_woman_category} in {first_year}\")"
   ]
  },
  {
   "cell_type": "markdown",
   "id": "7ed6992b-89c2-4f4c-a9cf-474ce13ddf1e",
   "metadata": {},
   "source": [
    "### Which Individuals or Organisations Have Won **More Than One Nobel Prize**?\n",
    "\n",
    "* Store the full names in a list named `repeat_list`.\n"
   ]
  },
  {
   "cell_type": "markdown",
   "id": "ef4b6109-b435-442c-b1cd-7ac1b33aa931",
   "metadata": {},
   "source": [
    "To identify individuals or organisations that have received more than one Nobel Prize, we’ll count the number of occurrences per name and filter for those with more than one entry.\n"
   ]
  },
  {
   "cell_type": "code",
   "execution_count": 22,
   "id": "92e6f3de-758d-4f14-9ce3-663e9931b8cb",
   "metadata": {},
   "outputs": [
    {
     "name": "stdout",
     "output_type": "stream",
     "text": [
      "full_name\n",
      "Comité international de la Croix Rouge (International Committee of the Red Cross)    3\n",
      "Frederick Sanger                                                                     2\n",
      "Marie Curie, née Sklodowska                                                          2\n",
      "Office of the United Nations High Commissioner for Refugees (UNHCR)                  2\n",
      "John Bardeen                                                                         2\n",
      "Linus Carl Pauling                                                                   2\n",
      "Name: count, dtype: int64\n"
     ]
    }
   ],
   "source": [
    "repeaters=df['full_name'].value_counts()\n",
    "repeat_list=list(repeaters[repeaters>1].index)\n",
    "print(repeaters[repeaters>1])"
   ]
  },
  {
   "cell_type": "markdown",
   "id": "2d9405ea-ba89-49bf-81c4-5574fcd8342c",
   "metadata": {},
   "source": [
    "## Key Findings\n",
    "\n",
    "- The most frequently awarded gender is male, and the most common country of birth is the United States.\n",
    "- The decade with the highest proportion of US-born laureates was the 2000s.\n",
    "- Female representation in the Nobel Prizes has increased slightly over time, with notable peaks in certain categories.\n",
    "- A few individuals and organisations, like Marie Curie and the Red Cross, have received the Nobel Prize more than once.\n"
   ]
  },
  {
   "cell_type": "markdown",
   "id": "96fb2070-9097-4daf-b01d-22d01ccf81d8",
   "metadata": {},
   "source": [
    "## Conclusion\n",
    "\n",
    "Through this analysis, we've explored over a century of Nobel Prize history to uncover patterns in gender, nationality, and institutional recognition. By examining trends across decades and categories, we've gained insights into the evolving landscape of global achievements. This exploration not only highlights notable individuals and repeated winners, but also reveals broader societal shifts in who gets recognised — and when.\n",
    "\n",
    "There’s still more to discover in this dataset, so feel free to continue digging into the data to uncover even deeper stories behind the prize.\n"
   ]
  }
 ],
 "metadata": {
  "editor": "DataCamp Workspace",
  "kernelspec": {
   "display_name": "Python (Data Analysis Base)",
   "language": "python",
   "name": "data_env"
  },
  "language_info": {
   "codemirror_mode": {
    "name": "ipython",
    "version": 3
   },
   "file_extension": ".py",
   "mimetype": "text/x-python",
   "name": "python",
   "nbconvert_exporter": "python",
   "pygments_lexer": "ipython3",
   "version": "3.12.9"
  }
 },
 "nbformat": 4,
 "nbformat_minor": 5
}
